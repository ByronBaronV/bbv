{
 "cells": [
  {
   "cell_type": "code",
   "execution_count": null,
   "id": "a043590a-eb3c-4fa0-91d4-37fdc8b2de8b",
   "metadata": {},
   "outputs": [],
   "source": [
    "# This is the first comment: live music venue finder"
   ]
  }
 ],
 "metadata": {
  "kernelspec": {
   "display_name": "Python 3 (ipykernel)",
   "language": "python",
   "name": "python3"
  },
  "language_info": {
   "codemirror_mode": {
    "name": "ipython",
    "version": 3
   },
   "file_extension": ".py",
   "mimetype": "text/x-python",
   "name": "python",
   "nbconvert_exporter": "python",
   "pygments_lexer": "ipython3",
   "version": "3.12.4"
  }
 },
 "nbformat": 4,
 "nbformat_minor": 5
}
